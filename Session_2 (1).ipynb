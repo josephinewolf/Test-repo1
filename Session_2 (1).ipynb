{
  "nbformat": 4,
  "nbformat_minor": 0,
  "metadata": {
    "colab": {
      "provenance": []
    },
    "kernelspec": {
      "name": "python3",
      "display_name": "Python 3"
    },
    "language_info": {
      "name": "python"
    }
  },
  "cells": [
    {
      "cell_type": "code",
      "execution_count": null,
      "metadata": {
        "colab": {
          "base_uri": "https://localhost:8080/"
        },
        "id": "Jn-eSw0dFCbh",
        "outputId": "8a3aeee7-fb46-47b5-b0f0-1314cb9f2380"
      },
      "outputs": [
        {
          "output_type": "stream",
          "name": "stdout",
          "text": [
            "stelios\n",
            "5\n"
          ]
        }
      ],
      "source": [
        "print(\"stelios\")\n",
        "print(5)"
      ]
    },
    {
      "cell_type": "code",
      "source": [
        "num1= float(input(\"Enter a number:\"))\n",
        "num2= float(input(\"Enter a number:\"))\n",
        "operation= input(\"Enter a sign (+, -, *, /):\")\n",
        "if operation== \"+\":\n",
        "    print(num1+num2)\n",
        "  elif operation==\"-\":\n",
        "      print(num-num2)\n",
        "  elif operation==\"*\":\n",
        "      print(num1*num2)\n",
        "elif:  operation==\"/\" and num2!=0:\n",
        "    print(num1/num2)\n",
        "else:\n",
        "  print (\"I do not support this yet!\")"
      ],
      "metadata": {
        "colab": {
          "base_uri": "https://localhost:8080/",
          "height": 110
        },
        "id": "2L4w5FrAGdPf",
        "outputId": "58eba91c-2524-4683-e038-833c39642bec"
      },
      "execution_count": null,
      "outputs": [
        {
          "output_type": "error",
          "ename": "IndentationError",
          "evalue": "unindent does not match any outer indentation level (<tokenize>, line 6)",
          "traceback": [
            "\u001b[0;36m  File \u001b[0;32m\"<tokenize>\"\u001b[0;36m, line \u001b[0;32m6\u001b[0m\n\u001b[0;31m    elif operation==\"-\":\u001b[0m\n\u001b[0m    ^\u001b[0m\n\u001b[0;31mIndentationError\u001b[0m\u001b[0;31m:\u001b[0m unindent does not match any outer indentation level\n"
          ]
        }
      ]
    }
  ]
}
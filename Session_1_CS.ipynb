{
  "nbformat": 4,
  "nbformat_minor": 0,
  "metadata": {
    "colab": {
      "provenance": []
    },
    "kernelspec": {
      "name": "python3",
      "display_name": "Python 3"
    },
    "language_info": {
      "name": "python"
    }
  },
  "cells": [
    {
      "cell_type": "code",
      "execution_count": null,
      "metadata": {
        "colab": {
          "base_uri": "https://localhost:8080/"
        },
        "id": "cXgXPaUC0QaA",
        "outputId": "75318e4e-7156-46ca-8c7e-31a453f1f5ea"
      },
      "outputs": [
        {
          "output_type": "stream",
          "name": "stdout",
          "text": [
            "Josephine\n",
            "10\n"
          ]
        }
      ],
      "source": [
        "print(\"Josephine\")\n",
        "print(10)"
      ]
    },
    {
      "cell_type": "code",
      "source": [
        "print(3*12)\n"
      ],
      "metadata": {
        "colab": {
          "base_uri": "https://localhost:8080/"
        },
        "id": "K9N2GQuP1nA8",
        "outputId": "6681e7d3-ab40-4c6f-899e-aca9e8297559"
      },
      "execution_count": null,
      "outputs": [
        {
          "output_type": "stream",
          "name": "stdout",
          "text": [
            "36\n"
          ]
        }
      ]
    },
    {
      "cell_type": "code",
      "source": [
        "name = input(\"enter  your name:\")\n",
        "city= input('enter your city:\"')\n",
        "tel = input(\"enter your number:\")\n",
        "print(name,\"from\", city,\"tel is\", tel)\n"
      ],
      "metadata": {
        "colab": {
          "base_uri": "https://localhost:8080/"
        },
        "id": "_AcOlhtU3hRf",
        "outputId": "f3b8105f-5060-47ca-93ce-ebf07646fedb"
      },
      "execution_count": null,
      "outputs": [
        {
          "output_type": "stream",
          "name": "stdout",
          "text": [
            "enter  your name:josephine \n",
            "enter your city:\"paris \n",
            "enter your number:072727827827$\n",
            "josephine  from paris  tel is 072727827827$\n"
          ]
        }
      ]
    },
    {
      "cell_type": "code",
      "source": [
        "print(\"stelios\"*3  )"
      ],
      "metadata": {
        "colab": {
          "base_uri": "https://localhost:8080/"
        },
        "id": "gUOA74Gj47Lv",
        "outputId": "70223378-d1c7-4c60-9d40-8d7fcd3bd6a6"
      },
      "execution_count": null,
      "outputs": [
        {
          "output_type": "stream",
          "name": "stdout",
          "text": [
            "steliossteliosstelios\n"
          ]
        }
      ]
    },
    {
      "cell_type": "code",
      "source": [
        "age=  int(input(\"how old are you?\"))\n",
        "print(age*3)"
      ],
      "metadata": {
        "colab": {
          "base_uri": "https://localhost:8080/"
        },
        "id": "Aua2RiOa5Qas",
        "outputId": "c913c194-eebd-4e33-8897-f006eff64b3b"
      },
      "execution_count": null,
      "outputs": [
        {
          "output_type": "stream",
          "name": "stdout",
          "text": [
            "how old are you?20 \n",
            "60\n"
          ]
        }
      ]
    },
    {
      "cell_type": "code",
      "source": [],
      "metadata": {
        "id": "oBKy0egi52zK"
      },
      "execution_count": null,
      "outputs": []
    },
    {
      "cell_type": "code",
      "source": [
        "x= int(input(\"enter a number: \"))\n",
        "y= int(input(\"enter a number:\"))\n",
        "print(x/y)\n",
        "if  y==0\n",
        "print(\"i can not divide by 0\")\n",
        "print(\"you are stupid\")\n",
        "else:\n",
        "print (x/y)"
      ],
      "metadata": {
        "colab": {
          "base_uri": "https://localhost:8080/",
          "height": 110
        },
        "id": "8T7Je4-k6Rmx",
        "outputId": "3b7f7fc2-6b24-4ada-876d-d75c89477d7c"
      },
      "execution_count": null,
      "outputs": [
        {
          "output_type": "error",
          "ename": "SyntaxError",
          "evalue": "expected ':' (<ipython-input-14-6d0e7072b95a>, line 4)",
          "traceback": [
            "\u001b[0;36m  File \u001b[0;32m\"<ipython-input-14-6d0e7072b95a>\"\u001b[0;36m, line \u001b[0;32m4\u001b[0m\n\u001b[0;31m    if  y==0\u001b[0m\n\u001b[0m             ^\u001b[0m\n\u001b[0;31mSyntaxError\u001b[0m\u001b[0;31m:\u001b[0m expected ':'\n"
          ]
        }
      ]
    },
    {
      "cell_type": "code",
      "source": [
        "x= int(input(\"Enter a number:\"))\n",
        "if x=0 and x<=10:\n",
        "        pr)\n"
      ],
      "metadata": {
        "id": "8D9Nj4xPIhLi"
      },
      "execution_count": null,
      "outputs": []
    }
  ]
}